{
 "cells": [
  {
   "cell_type": "markdown",
   "metadata": {
    "slideshow": {
     "slide_type": "slide"
    }
   },
   "source": [
    "#le groupe Calcul\n",
    "&nbsp;\n",
    "<center>\n",
    "<img src=\"files/figures/logocalcul.jpg\" style=\"width: 10%;\" />\n",
    "</center>\n",
    "&nbsp;\n",
    "<center>\n",
    "Loïc Gouarin\n",
    "</center>\n",
    "<center>\n",
    "6 novembre 2015\n",
    "</center>"
   ]
  },
  {
   "cell_type": "markdown",
   "metadata": {
    "slideshow": {
     "slide_type": "slide"
    }
   },
   "source": [
    "## Environnement\n",
    "\n",
    "<center>\n",
    "<img src=\"files/figures/calcul_1.png\" style=\"width: 90%;\" />\n",
    "</center>\n"
   ]
  },
  {
   "cell_type": "markdown",
   "metadata": {
    "slideshow": {
     "slide_type": "slide"
    }
   },
   "source": [
    "## Environnement\n",
    "\n",
    "<center>\n",
    "<img src=\"files/figures/calcul_2.png\" style=\"width: 90%;\" />\n",
    "</center>\n"
   ]
  },
  {
   "cell_type": "markdown",
   "metadata": {
    "slideshow": {
     "slide_type": "slide"
    }
   },
   "source": [
    "## Environnement\n",
    "\n",
    "<center>\n",
    "<img src=\"files/figures/calcul_3.png\" style=\"width: 90%;\" />\n",
    "</center>\n"
   ]
  },
  {
   "cell_type": "markdown",
   "metadata": {
    "slideshow": {
     "slide_type": "slide"
    }
   },
   "source": [
    "## Actions du groupe\n",
    "\n",
    "<center>\n",
    "<img src=\"files/figures/actions.png\" style=\"width: 90%;\" />\n",
    "</center>\n"
   ]
  },
  {
   "cell_type": "markdown",
   "metadata": {
    "slideshow": {
     "slide_type": "slide"
    }
   },
   "source": [
    "## Communications\n",
    "\n",
    "- Liste de diffusion : 1500 abonnés\n",
    "\n",
    "- Site web: \n",
    "http://calcul.math.cnrs.fr\n"
   ]
  },
  {
   "cell_type": "markdown",
   "metadata": {
    "slideshow": {
     "slide_type": "slide"
    }
   },
   "source": [
    "## Les nouvelles thématiques\n",
    "\n",
    "Le groupe Calcul a mené un travail sur les nouvelles tendances et les nouvelles thématiques aussi bien pour le réseau que pour le GdR.\n",
    "\n",
    "\n",
    "\n",
    "\n"
   ]
  },
  {
   "cell_type": "code",
   "execution_count": 2,
   "metadata": {
    "collapsed": false,
    "slideshow": {
     "slide_type": "skip"
    }
   },
   "outputs": [
    {
     "data": {
      "text/html": [
       "<link href='http://fonts.googleapis.com/css?family=Oswald' rel='stylesheet' type='text/css'>\n",
       "<link href='http://fonts.googleapis.com/css?family=Lora:400,400italic' rel='stylesheet' type='text/css'>\n",
       "<link href='http://fonts.googleapis.com/css?family=Open+Sans:300' rel='stylesheet' type='text/css'>\n",
       "\n",
       "<style>\n",
       "\n",
       "div.text_cell_render{font-family: \"Open Sans\", sans-serif;font-weight: normal; line-height:normal;}\n",
       "/* header colours and fonts */\n",
       ".rendered_html h1 { color:  #9A3334; font-family: Lora, sans-serif; font-weight: normal; text-align: center; }\n",
       ".rendered_html h2 { color: #9A3334; font-family: Lora, sans-serif; font-style: italic; font-weight: normal; text-align: center; }\n",
       ".rendered_html h3 { color: #9A3334; font-family: Lora, sans-serif; font-weight: normal; font-style: italic;}\n",
       "\n",
       "div.prompt {\n",
       "    display: None;\n",
       "}\n",
       "\n",
       "/* center the images */\n",
       ".ui-wrapper {\n",
       "    margin-left: auto !important;\n",
       "    margin-right: auto !important;\n",
       "}\n",
       "\n",
       "/* center the images */\n",
       ".video {\n",
       "    margin-left: auto !important;\n",
       "    margin-right: auto !important;\n",
       "}\n",
       "\n",
       ".rendered_html img {\n",
       "    margin-top: 0em;\n",
       "}\n",
       "\n",
       "/*.reveal h1 {\n",
       "    text-shadow: 10px 10px 10px rgba(0, 0, 0, 0.5);\n",
       "}*/\n",
       "</style>"
      ],
      "text/plain": [
       "<IPython.core.display.HTML object>"
      ]
     },
     "execution_count": 2,
     "metadata": {},
     "output_type": "execute_result"
    }
   ],
   "source": [
    "from IPython.core.display import HTML\n",
    "def css_styling():\n",
    "    styles = open(\"styles/custom.css\", \"r\").read()\n",
    "    return HTML(styles)\n",
    "css_styling()"
   ]
  }
 ],
 "metadata": {
  "celltoolbar": "Slideshow",
  "kernelspec": {
   "display_name": "Python 2",
   "language": "python",
   "name": "python2"
  },
  "language_info": {
   "codemirror_mode": {
    "name": "ipython",
    "version": 2
   },
   "file_extension": ".py",
   "mimetype": "text/x-python",
   "name": "python",
   "nbconvert_exporter": "python",
   "pygments_lexer": "ipython2",
   "version": "2.7.10"
  }
 },
 "nbformat": 4,
 "nbformat_minor": 0
}
