{
 "cells": [
  {
   "cell_type": "markdown",
   "metadata": {
    "slideshow": {
     "slide_type": "slide"
    }
   },
   "source": [
    "<center>\n",
    "<img src=\"files/figures/logocalcul.jpg\" style=\"width: 20%;\" />\n",
    "</center>\n",
    "&nbsp;\n",
    "<center>\n",
    "<b>Loïc Gouarin</b>\n",
    "</center>\n",
    "<center style=\"font-size:50%;\">\n",
    "<i>journées SUCCES</i>\n",
    "</center>\n",
    "<center style=\"font-size:50%;\">\n",
    "<i>6 novembre 2015</i>\n",
    "</center>"
   ]
  },
  {
   "cell_type": "markdown",
   "metadata": {
    "slideshow": {
     "slide_type": "slide"
    }
   },
   "source": [
    "## Environnement\n",
    "\n",
    "<center>\n",
    "<img src=\"files/figures/calcul_1.png\" style=\"width: 90%;\" />\n",
    "</center>\n"
   ]
  },
  {
   "cell_type": "markdown",
   "metadata": {
    "slideshow": {
     "slide_type": "slide"
    }
   },
   "source": [
    "## Environnement\n",
    "\n",
    "<center>\n",
    "<img src=\"files/figures/calcul_2.png\" style=\"width: 90%;\" />\n",
    "</center>\n"
   ]
  },
  {
   "cell_type": "markdown",
   "metadata": {
    "slideshow": {
     "slide_type": "slide"
    }
   },
   "source": [
    "## Environnement\n",
    "\n",
    "<center>\n",
    "<img src=\"files/figures/calcul_3.png\" style=\"width: 90%;\" />\n",
    "</center>\n"
   ]
  },
  {
   "cell_type": "markdown",
   "metadata": {
    "slideshow": {
     "slide_type": "slide"
    }
   },
   "source": [
    "##  Thématiques du réseau\n",
    "\n",
    "- Génie logiciel pour le calcul\n",
    "- Optimisation, parallélisation et runtime\n",
    "- Bibliothèques de calcul\n",
    "- Données et visualisation\n",
    "- Langages de programmation"
   ]
  },
  {
   "cell_type": "markdown",
   "metadata": {
    "slideshow": {
     "slide_type": "slide"
    }
   },
   "source": [
    "## Thématiques du GdR\n",
    "\n",
    "Depuis le début du GdR, les thèmes abordés sont très proches de la résolution des équations aux dérivées partielles. \n",
    "&nbsp;\n",
    "\n",
    "Le groupe a décidé d'élargir les thématiques du GdR en s'intéressant à un certain nombre de domaines où la composante calcul est essentielle."
   ]
  },
  {
   "cell_type": "markdown",
   "metadata": {
    "slideshow": {
     "slide_type": "slide"
    }
   },
   "source": [
    "## Thématiques du GdR\n",
    "\n",
    "- EDP\n",
    "- Algèbre linéaire creux et dense\n",
    "- EDO et EDP stochastiques\n",
    "- Traitement d'images\n",
    "- Optimisation/contrôle optimal\n",
    "- Machine learning\n",
    "- Mathématiques formelles\n",
    "- Arithmétique d'intervalles\n",
    "- Compilation\n"
   ]
  },
  {
   "cell_type": "markdown",
   "metadata": {
    "slideshow": {
     "slide_type": "slide"
    }
   },
   "source": [
    "## Actions du groupe\n",
    "\n",
    "<center>\n",
    "<img src=\"files/figures/actions.png\" style=\"width: 90%;\" />\n",
    "</center>\n"
   ]
  },
  {
   "cell_type": "markdown",
   "metadata": {
    "slideshow": {
     "slide_type": "slide"
    }
   },
   "source": [
    "##Actions autour du calcul intensif\n",
    "\n",
    "- Journées des mésocentres (8ème cette année)\n",
    "- Rapport chaque année sur l'évolution des mésocentres\n",
    "- Animation scientifique dans le cadre d'equip@meso\n",
    "- Participation au COCIN\n",
    "- Cellule de veille technologique coordonnée par GENCI\n",
    "- Journées SUCCES"
   ]
  },
  {
   "cell_type": "markdown",
   "metadata": {
    "slideshow": {
     "slide_type": "slide"
    }
   },
   "source": [
    "## Focal\n",
    "\n",
    "Focal est un catalogue de formations autour du calcul au sens large (calcul\n",
    "haute performance, langages et bibliothèques scientifiques, modélisation,\n",
    "mathématiques, statistiques,...). \n",
    "\n",
    "Ce recensement national est dédié aux\n",
    "formations continues et aux journées spécifiques.\n",
    "\n",
    "<center>\n",
    "<img src=\"files/figures/focal_resp.png\" style=\"width: 90%;\" />\n",
    "</center>"
   ]
  },
  {
   "cell_type": "markdown",
   "metadata": {
    "slideshow": {
     "slide_type": "slide"
    }
   },
   "source": [
    "## Focal: pourquoi ?\n",
    "- Coordonner les acteurs\n",
    "- Favoriser les échanges et les partenariats\n",
    "- Connaître rapidement les offres de formations\n",
    "- Recherches multi-critères"
   ]
  },
  {
   "cell_type": "markdown",
   "metadata": {
    "slideshow": {
     "slide_type": "slide"
    }
   },
   "source": [
    "## Focal: http://formation-calcul.fr/\n",
    "&nbsp;\n",
    "<center>\n",
    "<img src=\"files/figures/focal_site.png\" style=\"width: 90%;\" />\n",
    "</center>"
   ]
  },
  {
   "cell_type": "markdown",
   "metadata": {
    "slideshow": {
     "slide_type": "slide"
    }
   },
   "source": [
    "## Focal: les partenaires\n",
    "- IDRIS\n",
    "- CINES\n",
    "- CERFACS\n",
    "- HPC Academy\n",
    "- ISC-PIF\n",
    "- 4 Mésocentres\n",
    "    - CRIHAN\n",
    "    - Mésocentre de Franche-Comté\n",
    "    - Mésocentre de la région centre\n",
    "    - Mésocentre de Strasbourg"
   ]
  },
  {
   "cell_type": "markdown",
   "metadata": {
    "slideshow": {
     "slide_type": "slide"
    }
   },
   "source": [
    "## Focal: comment participer ?\n",
    "- En devenant partenaire : un espace dédié et un représentant pour une entité\n",
    "donnée\n",
    "- En envoyant ponctuellement des annonces de formation à l’un des porteurs\n",
    "qui fera le relais"
   ]
  },
  {
   "cell_type": "markdown",
   "metadata": {
    "slideshow": {
     "slide_type": "slide"
    }
   },
   "source": [
    "## Informations importantes\n",
    "\n",
    "Le groupe Calcul peut vous aider à monter des **formations** ou des **journées thématiques**\n",
    "\n",
    "- d'un point de vue organisationnel,\n",
    "- d'un point de vue financier.\n",
    "    \n",
    "Les **offres d'emplois** sont très consultées, n'hésitez pas à les publier."
   ]
  },
  {
   "cell_type": "markdown",
   "metadata": {
    "slideshow": {
     "slide_type": "slide"
    }
   },
   "source": [
    "<div style=\"width:10%;\"></div>\n",
    "<center>\n",
    "<b>Liste de diffusion</b> (1500 abonnés)\n",
    "</center>\n",
    "<center>\n",
    "calcul@listes.math.cnrs.fr\n",
    "</center>\n",
    "\n",
    "<div style=\"width:10%;\"></div>\n",
    "<center>\n",
    "<b>Site web</b>\n",
    "</center>\n",
    "<center>\n",
    "http://calcul.math.cnrs.fr\n",
    "</center>\n",
    "\n",
    "<div style=\"width:10%;\"></div>\n",
    "<center>\n",
    "<img src=\"files/figures/logocalcul.jpg\" style=\"width: 10%;\" />\n",
    "</center>\n",
    "\n",
    "<div style=\"width:10%;\"></div>\n",
    "<center>\n",
    "<b>Si vous êtes intéressés pour nous rejoindre, n'hésitez pas à nous contacter</b>\n",
    "</center>\n",
    "<center>\n",
    "calcul-contact@services.cnrs.fr\n",
    "</center>\n"
   ]
  },
  {
   "cell_type": "code",
   "execution_count": 3,
   "metadata": {
    "collapsed": false,
    "slideshow": {
     "slide_type": "skip"
    }
   },
   "outputs": [
    {
     "data": {
      "text/html": [
       "<link href='http://fonts.googleapis.com/css?family=Oswald' rel='stylesheet' type='text/css'>\n",
       "<link href='http://fonts.googleapis.com/css?family=Lora:400,400italic' rel='stylesheet' type='text/css'>\n",
       "<link href='http://fonts.googleapis.com/css?family=Open+Sans:300' rel='stylesheet' type='text/css'>\n",
       "\n",
       "<style>\n",
       "\n",
       "div.text_cell_render{font-family: \"Open Sans\", sans-serif;font-weight: normal; line-height:normal;}\n",
       "/* header colours and fonts */\n",
       ".rendered_html h1 { color: #9A3334; font-family: Lora, sans-serif; font-weight: normal; text-align: center; }\n",
       ".rendered_html h2 { color: #9A3334; font-family: Oswald, sans-serif; font-style: italic; font-weight: normal; text-align: center; }\n",
       ".rendered_html h3 { color: #9A3334; font-family: Lora, sans-serif; font-weight: normal; font-style: italic;}\n",
       "\n",
       "div.prompt {\n",
       "    display: None;\n",
       "}\n",
       "\n",
       "/* center the images */\n",
       ".ui-wrapper {\n",
       "    margin-left: auto !important;\n",
       "    margin-right: auto !important;\n",
       "}\n",
       "\n",
       "/* center the images */\n",
       ".video {\n",
       "    margin-left: auto !important;\n",
       "    margin-right: auto !important;\n",
       "}\n",
       "\n",
       ".rendered_html img {\n",
       "    margin-top: 0em;\n",
       "}\n",
       "\n",
       "/*.reveal h1 {\n",
       "    text-shadow: 10px 10px 10px rgba(0, 0, 0, 0.5);\n",
       "}*/\n",
       "</style>\n"
      ],
      "text/plain": [
       "<IPython.core.display.HTML object>"
      ]
     },
     "execution_count": 3,
     "metadata": {},
     "output_type": "execute_result"
    }
   ],
   "source": [
    "from IPython.core.display import HTML\n",
    "def css_styling():\n",
    "    styles = open(\"styles/custom.css\", \"r\").read()\n",
    "    return HTML(styles)\n",
    "css_styling()"
   ]
  }
 ],
 "metadata": {
  "celltoolbar": "Slideshow",
  "kernelspec": {
   "display_name": "Python 2",
   "language": "python",
   "name": "python2"
  },
  "language_info": {
   "codemirror_mode": {
    "name": "ipython",
    "version": 2
   },
   "file_extension": ".py",
   "mimetype": "text/x-python",
   "name": "python",
   "nbconvert_exporter": "python",
   "pygments_lexer": "ipython2",
   "version": "2.7.10"
  }
 },
 "nbformat": 4,
 "nbformat_minor": 0
}
