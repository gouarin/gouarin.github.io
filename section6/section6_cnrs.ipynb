{
 "cells": [
  {
   "cell_type": "markdown",
   "metadata": {
    "slideshow": {
     "slide_type": "slide"
    }
   },
   "source": [
    "<center>\n",
    "<img src=\"files/figures/logocalcul.jpg\" style=\"width: 20%;\" />\n",
    "</center>\n",
    "&nbsp;\n",
    "<center>\n",
    "<b>Loïc Gouarin</b>\n",
    "</center>\n",
    "<center style=\"font-size:50%;\">\n",
    "<i>Section 6 du CNRS</i>\n",
    "</center>\n",
    "<center style=\"font-size:50%;\">\n",
    "<i>19 mai 2016</i>\n",
    "</center>"
   ]
  },
  {
   "cell_type": "markdown",
   "metadata": {
    "slideshow": {
     "slide_type": "slide"
    }
   },
   "source": [
    "##Bref historique\n",
    "\n",
    "- **2003**: début des échanges au sein de Mathrice\n",
    "- **2009**: structuration du groupe Calcul en un GdR et un Réseau\n",
    "- **2013**: renouvellement du GdR\n"
   ]
  },
  {
   "cell_type": "markdown",
   "metadata": {
    "slideshow": {
     "slide_type": "slide"
    }
   },
   "source": [
    "## Environnement\n",
    "\n",
    "<center>\n",
    "<img src=\"files/figures/calcul_1.png\" style=\"width: 90%;\" />\n",
    "</center>\n"
   ]
  },
  {
   "cell_type": "markdown",
   "metadata": {
    "slideshow": {
     "slide_type": "slide"
    }
   },
   "source": [
    "## Environnement\n",
    "\n",
    "<center>\n",
    "<img src=\"files/figures/calcul_2.png\" style=\"width: 90%;\" />\n",
    "</center>\n"
   ]
  },
  {
   "cell_type": "markdown",
   "metadata": {
    "slideshow": {
     "slide_type": "slide"
    }
   },
   "source": [
    "## Environnement\n",
    "\n",
    "<center>\n",
    "<img src=\"files/figures/calcul_3.png\" style=\"width: 90%;\" />\n",
    "</center>\n"
   ]
  },
  {
   "cell_type": "markdown",
   "metadata": {
    "slideshow": {
     "slide_type": "slide"
    }
   },
   "source": [
    "## Actions du groupe\n",
    "\n",
    "<center>\n",
    "<img src=\"files/figures/actions.png\" style=\"width: 90%;\" />\n",
    "</center>\n"
   ]
  },
  {
   "cell_type": "markdown",
   "metadata": {
    "slideshow": {
     "slide_type": "notes"
    }
   },
   "source": [
    "## Quelques actions typiques\n",
    "\n",
    "- journées scientifiques\n",
    "    - Méthodes Galerkin discontinues\n",
    "    - Résolution du problème de Poisson\n",
    "- Ecoles thématiques\n",
    "    - Méthodes de décomposition de domaines\n",
    "    - Reproductibilité\n",
    "- mini-symposium au CANUM ou à la SMAI\n",
    "- CEMRACS 2012"
   ]
  },
  {
   "cell_type": "markdown",
   "metadata": {
    "slideshow": {
     "slide_type": "slide"
    }
   },
   "source": [
    "##  Thématiques du réseau\n",
    "\n",
    "- Génie logiciel pour le calcul\n",
    "- Optimisation, parallélisation et runtime\n",
    "- Bibliothèques de calcul\n",
    "- Données et visualisation\n",
    "- Langages de programmation"
   ]
  },
  {
   "cell_type": "markdown",
   "metadata": {
    "slideshow": {
     "slide_type": "slide"
    }
   },
   "source": [
    "## Thématiques du GdR\n",
    "\n",
    "Depuis le début du GdR, les thèmes abordés sont très proches de la résolution des équations aux dérivées partielles. \n",
    "&nbsp;\n",
    "\n",
    "Le groupe a décidé d'élargir les thématiques du GdR en s'intéressant à un certain nombre de domaines où la composante calcul est essentielle."
   ]
  },
  {
   "cell_type": "markdown",
   "metadata": {
    "slideshow": {
     "slide_type": "slide"
    }
   },
   "source": [
    "## Nouvelles thématiques du GdR\n",
    "\n",
    "- EDP\n",
    "- Algèbre linéaire creux et dense\n",
    "- EDO et EDP stochastiques\n",
    "- Traitement d'images\n",
    "- Optimisation/contrôle optimal\n",
    "- Machine learning\n",
    "- Calcul exact\n",
    "- Arithmétique d'intervalles\n"
   ]
  },
  {
   "cell_type": "markdown",
   "metadata": {
    "slideshow": {
     "slide_type": "slide"
    }
   },
   "source": [
    "## Calcul exact\n",
    "\n",
    "- Maple, Mathematica, Sage sont très utilisés en mathématiques appliquées\n",
    "- Comment profiter du calcul exact le plus logntemps possible ?\n",
    "- Algèbre linéaire, calcul d'intégrales, de dérivées, ...\n",
    "- Gros manque d'échanges entre les 2 communautés\n",
    "\n"
   ]
  },
  {
   "cell_type": "markdown",
   "metadata": {
    "slideshow": {
     "slide_type": "slide"
    }
   },
   "source": [
    "## Calcul exact\n",
    "\n",
    "Néanmoins, il existe quelques essais de rapprochement: opendreamkit, symbolic-numeric computation.\n",
    "\n",
    "Le GdR Calcul et le GdR IM peuvent travailler ensemble pour améliorer les pratiques.\n",
    "\n"
   ]
  },
  {
   "cell_type": "markdown",
   "metadata": {
    "slideshow": {
     "slide_type": "slide"
    }
   },
   "source": [
    "## Arithmétique flottante\n",
    "\n",
    "- Base de tout calcul numérique\n",
    "- Certifier les résultats des simulations\n",
    "- Dégrader la précision pour gagner en rapidité\n",
    "\n",
    "Deux approches:\n",
    "\n",
    "- Arithmétique par intervalles\n",
    "- Arithmétique stochastique\n"
   ]
  },
  {
   "cell_type": "markdown",
   "metadata": {
    "slideshow": {
     "slide_type": "slide"
    }
   },
   "source": [
    "## Calcul intensif et données\n",
    "\n",
    "Pour chacune des thématiques, une composante importante est le calcul intensif.\n",
    "\n",
    "Pour rappel, \n",
    "\n",
    "- __Modélisation et simulation__ \n",
    "    3ème pilier de la science (après théorie et expérimentation)\n",
    "\n",
    "- __Exploitation des données__ (*« Big Data »*) maintenant considérée comme le 4ème pilier\n",
    "\n",
    "\n",
    "Initiative forte du CNRS avec la création de __MiCaDo__."
   ]
  },
  {
   "cell_type": "markdown",
   "metadata": {
    "slideshow": {
     "slide_type": "slide"
    }
   },
   "source": [
    "## Rôle du GdR\n",
    "\n",
    "- Initier des rapprochements entre les communautés,\n",
    "- Proposer des formations inter disciplines,\n",
    "- Renvoyer les chercheurs vers les structures adaptées,\n",
    "- Faire remonter les besoins des différentes communautés en terme de calcul et de stockage,\n",
    "- ..."
   ]
  },
  {
   "cell_type": "markdown",
   "metadata": {
    "slideshow": {
     "slide_type": "slide"
    }
   },
   "source": [
    "##Actions autour du calcul intensif\n",
    "\n",
    "- Journées des mésocentres (9ème cette année)\n",
    "- Rapport chaque année sur l'évolution des mésocentres\n",
    "- Animation scientifique dans le cadre d'equip@meso\n",
    "- Participation au COCIN\n",
    "- Cellule de veille technologique coordonnée par GENCI\n",
    "- Journées SUCCES en partenariat avec France Grilles"
   ]
  },
  {
   "cell_type": "markdown",
   "metadata": {
    "slideshow": {
     "slide_type": "slide"
    }
   },
   "source": [
    "## Wikipedia du numérique\n",
    "\n",
    "- Lancer une dynamique d'amélioration de certains articles,\n",
    "- Organiser des journées de travail (editathon),\n",
    "- Etiquetage et reconnaissance du travail effectué (création d'un label),\n",
    "- Contacts avec Wikipedia France.\n"
   ]
  },
  {
   "cell_type": "markdown",
   "metadata": {
    "slideshow": {
     "slide_type": "slide"
    }
   },
   "source": [
    "## Reproductibilité\n",
    "\n",
    "La reproductibilité peut prendre deux aspects:\n",
    "\n",
    "- reproductibilité des calculs numériques,\n",
    "\n",
    "- reproductibilité des articles scientifiques."
   ]
  },
  {
   "cell_type": "markdown",
   "metadata": {
    "slideshow": {
     "slide_type": "slide"
    }
   },
   "source": [
    "## Reproductibilité des calculs numériques\n",
    "\n",
    "Problème souvent méconnu ou ignoré. Il donne néanmoins un gage de qualité en certifiant les résultats.\n",
    "\n",
    "Plusieurs problèmes peuvent apparaître lorsque\n",
    "\n",
    "   - changement d'architecture,\n",
    "   - changement de compilateur,\n",
    "   - calcul intensif,\n",
    "   - ...\n",
    "   \n",
    "Convaincre l'utilisateur et le développeur de l'importance de la reproductibilité de leurs expériences.\n",
    "    \n",
    "    "
   ]
  },
  {
   "cell_type": "markdown",
   "metadata": {
    "slideshow": {
     "slide_type": "slide"
    }
   },
   "source": [
    "## Reproductibilité des articles scientifiques\n",
    "\n",
    "Un certain nombre d'iniatives existe autour de la reproductibilité des articles scientifiques\n",
    "\n",
    "- IPOL\n",
    "- ActivePapers\n",
    "- ReScience\n",
    "- zenodo\n",
    "- figshare\n",
    "- ...\n",
    "\n",
    "Mener une réflexion autour des archives ouvertes."
   ]
  },
  {
   "cell_type": "markdown",
   "metadata": {
    "slideshow": {
     "slide_type": "slide"
    }
   },
   "source": [
    "## Partenariats institutionnels \n",
    "\n",
    "- CPU\n",
    "- Genci\n",
    "- INRIA\n",
    "- Inra"
   ]
  },
  {
   "cell_type": "markdown",
   "metadata": {
    "slideshow": {
     "slide_type": "slide"
    }
   },
   "source": [
    "## Partenariats avec d'autres GdR\n",
    "\n",
    "- GdR MIA,\n",
    "- groupe MODES de la SMAI,\n",
    "- GdR IM,\n",
    "- GdR ISIS,\n",
    "- GdR Jeux,\n",
    "- GdR MaDICS,\n",
    "- GdR Mascot-Num\n",
    "- GdR MOA,\n",
    "- GdR Momas\n",
    "- GdR Visu,\n",
    "- ..."
   ]
  },
  {
   "cell_type": "markdown",
   "metadata": {
    "slideshow": {
     "slide_type": "slide"
    }
   },
   "source": [
    "## Autres partenariats\n",
    "\n",
    "- AMIES,\n",
    "- France Grilles,\n",
    "- Maison de la Simulation,\n",
    "- ..."
   ]
  },
  {
   "cell_type": "markdown",
   "metadata": {
    "slideshow": {
     "slide_type": "slide"
    }
   },
   "source": [
    "## Composition du bureau\n",
    "\n",
    "- Mark __Asch__, *ANR,*\n",
    "- Matthieu __Boileau__, *Institut de Recherche Mathématique Avancée, Strasbourg,*\n",
    "- Sylvain __Faure__, *Laboratoire de Mathématiques, Orsay,*\n",
    "- Alain __Franc__, *INRA, Cestas,*\n",
    "- Loïc __Gouarin__, *Laboratoire de Mathématiques, Orsay,*\n",
    "- Violaine __Louvet__, *UMS GRICAD, Grenoble,*\n",
    "- Marc __Massot__, *EM2C, Centrale-Supélec,*\n",
    "- Vincent __Miele__, *LBBE, Lyon,*\n",
    "- Anne-Sophie __Mouronval__, *MSSMat, Centrale-Supélec,*\n",
    "- Laurent __Series__, *MAS, Centrale-Supélec.*"
   ]
  },
  {
   "cell_type": "markdown",
   "metadata": {
    "slideshow": {
     "slide_type": "slide"
    }
   },
   "source": [
    "## Conseil scientifique\n",
    "\n",
    "- Charles-Edouard __Bréhier__, *Institut Camille Jordan, Lyon,*\n",
    "- Jean-Baptiste __Caillau__, *Statistique, Probabilités, Optimisation et Contrôle, Dijon,*\n",
    "- Stéphane __Cordier__, *AMIES, Grenoble,*\n",
    "- Laura __Grigori__, *INRIA, Rocquencourt,*\n",
    "- Konrad __Hinsen__, *Centre de Biophysique Moléculaire, Orléans,*\n",
    "- Michel __Kern__, *INRIA et Maison de la Simulation,*\n",
    "- Bertrand __Maury__, *Laboratoire de Mathématiques, Orsay,*\n",
    "- Clément __Pernet__, *Laboratoire de l’Informatique Parallélisme, Grenoble,*\n",
    "- Gabriel __Peyré__, *CEREMADE, Paris-Dauphine,*\n",
    "- Stéphane __Requena__, *Genci,*\n",
    "- Nathalie __Revol__, *ENS, Lyon,*\n",
    "- Nicolas __Thiéry__, *Laboratoire de Recherche en Informatique, Orsay.*"
   ]
  },
  {
   "cell_type": "markdown",
   "metadata": {
    "slideshow": {
     "slide_type": "slide"
    }
   },
   "source": [
    "## Focal\n",
    "\n",
    "Focal est un catalogue de formations autour du calcul au sens large (calcul\n",
    "haute performance, langages et bibliothèques scientifiques, modélisation,\n",
    "mathématiques, statistiques,...). \n",
    "\n",
    "Ce recensement national est dédié aux\n",
    "formations continues et aux journées spécifiques.\n",
    "\n",
    "<center>\n",
    "<img src=\"files/figures/focal_resp.png\" style=\"width: 90%;\" />\n",
    "</center>"
   ]
  },
  {
   "cell_type": "markdown",
   "metadata": {
    "slideshow": {
     "slide_type": "slide"
    }
   },
   "source": [
    "## Focal: pourquoi ?\n",
    "- Coordonner les acteurs\n",
    "- Favoriser les échanges et les partenariats\n",
    "- Connaître rapidement les offres de formations\n",
    "- Recherches multi-critères"
   ]
  },
  {
   "cell_type": "markdown",
   "metadata": {
    "slideshow": {
     "slide_type": "slide"
    }
   },
   "source": [
    "## Focal: http://formation-calcul.fr/\n",
    "&nbsp;\n",
    "<center>\n",
    "<img src=\"files/figures/focal_site.png\" style=\"width: 90%;\" />\n",
    "</center>"
   ]
  },
  {
   "cell_type": "markdown",
   "metadata": {
    "slideshow": {
     "slide_type": "slide"
    }
   },
   "source": [
    "## Focal: les partenaires\n",
    "- IDRIS\n",
    "- CINES\n",
    "- CERFACS\n",
    "- France Grilles\n",
    "- HPC Academy\n",
    "- ISC-PIF\n",
    "- 4 Mésocentres\n",
    "    - CRIHAN\n",
    "    - Mésocentre de Franche-Comté\n",
    "    - Mésocentre de la région centre\n",
    "    - Mésocentre de Strasbourg"
   ]
  },
  {
   "cell_type": "markdown",
   "metadata": {
    "slideshow": {
     "slide_type": "slide"
    }
   },
   "source": [
    "## Focal: comment participer ?\n",
    "- En devenant partenaire : un espace dédié et un représentant pour une entité\n",
    "donnée\n",
    "- En envoyant ponctuellement des annonces de formation à l’un des porteurs\n",
    "qui fera le relais"
   ]
  },
  {
   "cell_type": "markdown",
   "metadata": {
    "slideshow": {
     "slide_type": "slide"
    }
   },
   "source": [
    "<div style=\"width:10%;\"></div>\n",
    "<center>\n",
    "<b>Liste de diffusion</b> (1500 abonnés)\n",
    "</center>\n",
    "<center>\n",
    "calcul@listes.math.cnrs.fr\n",
    "</center>\n",
    "\n",
    "<div style=\"width:10%;\"></div>\n",
    "<center>\n",
    "<b>Site web</b>\n",
    "</center>\n",
    "<center>\n",
    "http://calcul.math.cnrs.fr\n",
    "</center>\n",
    "\n",
    "<div style=\"width:10%;\"></div>\n",
    "<center>\n",
    "<img src=\"files/figures/logocalcul.jpg\" style=\"width: 10%;\" />\n",
    "</center>\n"
   ]
  },
  {
   "cell_type": "code",
   "execution_count": 3,
   "metadata": {
    "collapsed": false,
    "slideshow": {
     "slide_type": "skip"
    }
   },
   "outputs": [
    {
     "data": {
      "text/html": [
       "<link href='http://fonts.googleapis.com/css?family=Oswald' rel='stylesheet' type='text/css'>\n",
       "<link href='http://fonts.googleapis.com/css?family=Lora:400,400italic' rel='stylesheet' type='text/css'>\n",
       "<link href='http://fonts.googleapis.com/css?family=Open+Sans:300' rel='stylesheet' type='text/css'>\n",
       "\n",
       "<style>\n",
       "\n",
       "div.text_cell_render{font-family: \"Open Sans\", sans-serif;font-weight: normal; line-height:normal;}\n",
       "/* header colours and fonts */\n",
       ".rendered_html h1 { color: #9A3334; font-family: Lora, sans-serif; font-weight: normal; text-align: center; }\n",
       ".rendered_html h2 { color: #9A3334; font-family: Oswald, sans-serif; font-style: italic; font-weight: normal; text-align: center; }\n",
       ".rendered_html h3 { color: #9A3334; font-family: Lora, sans-serif; font-weight: normal; font-style: italic;}\n",
       "\n",
       "div.prompt {\n",
       "    display: None;\n",
       "}\n",
       "\n",
       "/* center the images */\n",
       ".ui-wrapper {\n",
       "    margin-left: auto !important;\n",
       "    margin-right: auto !important;\n",
       "}\n",
       "\n",
       "/* center the images */\n",
       ".video {\n",
       "    margin-left: auto !important;\n",
       "    margin-right: auto !important;\n",
       "}\n",
       "\n",
       ".rendered_html img {\n",
       "    margin-top: 0em;\n",
       "}\n",
       "\n",
       "/*.reveal h1 {\n",
       "    text-shadow: 10px 10px 10px rgba(0, 0, 0, 0.5);\n",
       "}*/\n",
       "</style>\n"
      ],
      "text/plain": [
       "<IPython.core.display.HTML object>"
      ]
     },
     "execution_count": 3,
     "metadata": {},
     "output_type": "execute_result"
    }
   ],
   "source": [
    "from IPython.core.display import HTML\n",
    "def css_styling():\n",
    "    styles = open(\"styles/custom.css\", \"r\").read()\n",
    "    return HTML(styles)\n",
    "css_styling()"
   ]
  }
 ],
 "metadata": {
  "celltoolbar": "Slideshow",
  "kernelspec": {
   "display_name": "Python 2",
   "language": "python",
   "name": "python2"
  },
  "language_info": {
   "codemirror_mode": {
    "name": "ipython",
    "version": 2
   },
   "file_extension": ".py",
   "mimetype": "text/x-python",
   "name": "python",
   "nbconvert_exporter": "python",
   "pygments_lexer": "ipython2",
   "version": "2.7.11"
  }
 },
 "nbformat": 4,
 "nbformat_minor": 0
}
