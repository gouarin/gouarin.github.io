{
 "cells": [
  {
   "cell_type": "markdown",
   "metadata": {
    "slideshow": {
     "slide_type": "slide"
    }
   },
   "source": [
    "# Enquête mésocentres 2016"
   ]
  },
  {
   "cell_type": "markdown",
   "metadata": {
    "slideshow": {
     "slide_type": "slide"
    }
   },
   "source": [
    "- Nombre de réponses: **24**\n",
    "- Top 5 *Tflops*\n",
    "    - Reims : **ROMEO**\n",
    "    - Lyon : **FLMSN**\n",
    "    - Montpellier : **HPC@LR**\n",
    "    - Strasbourg : **HPC**\n",
    "    - Toulouse : **CALMIP**\n",
    "- Top 5 *TO*\n",
    "    - Orsay : **GRIF**\n",
    "    - Toulouse : **CALMIP**\n",
    "    - Lyon : **FLMSN**\n",
    "    - Paris : **ESPRI-IPSL**\n",
    "    - Annecy: **MUST**"
   ]
  },
  {
   "cell_type": "markdown",
   "metadata": {
    "slideshow": {
     "slide_type": "slide"
    }
   },
   "source": [
    "## Puissance crête\n",
    "\n",
    "<center>\n",
    "<img style=\"height=90%\" src=\"figures/Rpeak.png\" />\n",
    "</center>"
   ]
  },
  {
   "cell_type": "markdown",
   "metadata": {
    "slideshow": {
     "slide_type": "slide"
    }
   },
   "source": [
    "## Puissance crête (2016)\n",
    "\n",
    "<center>\n",
    "<img style=\"height=80%\" src=\"figures/Rpeak_map.png\" />\n",
    "</center>"
   ]
  },
  {
   "cell_type": "markdown",
   "metadata": {
    "slideshow": {
     "slide_type": "slide"
    }
   },
   "source": [
    "## Stockage\n",
    "\n",
    "<center>\n",
    "<img style=\"height=90%\" src=\"figures/storage.png\" />\n",
    "</center>"
   ]
  },
  {
   "cell_type": "markdown",
   "metadata": {
    "slideshow": {
     "slide_type": "slide"
    }
   },
   "source": [
    "## Stockage (2016)\n",
    "\n",
    "<center>\n",
    "<img style=\"height=80%\" src=\"figures/storage_map.png\" />\n",
    "</center>"
   ]
  },
  {
   "cell_type": "markdown",
   "metadata": {
    "slideshow": {
     "slide_type": "slide"
    }
   },
   "source": [
    "## Gestion des fichiers\n",
    "\n",
    "<center>\n",
    "\n",
    "<img style=\"height=90%\" src=\"figures/filesystem.png\" />\n",
    "</center>"
   ]
  },
  {
   "cell_type": "markdown",
   "metadata": {
    "slideshow": {
     "slide_type": "slide"
    }
   },
   "source": [
    "## Scheduler\n",
    "\n",
    "<center>\n",
    "<img style=\"height=90%\" src=\"figures/scheduler.png\" />\n",
    "</center>"
   ]
  },
  {
   "cell_type": "markdown",
   "metadata": {
    "slideshow": {
     "slide_type": "slide"
    }
   },
   "source": [
    "## Personnels\n",
    "\n",
    "<center>\n",
    "<img style=\"height=90%\" src=\"figures/ETP.png\" />\n",
    "</center>"
   ]
  },
  {
   "cell_type": "markdown",
   "metadata": {
    "slideshow": {
     "slide_type": "slide"
    }
   },
   "source": [
    "## Personnels (2016)\n",
    "\n",
    "<center>\n",
    "<img style=\"height=80%\" src=\"figures/ETP_map.png\" />\n",
    "</center>"
   ]
  },
  {
   "cell_type": "markdown",
   "metadata": {
    "slideshow": {
     "slide_type": "slide"
    }
   },
   "source": [
    "## Utilisateurs\n",
    "\n",
    "<center>\n",
    "<img style=\"height=90%\" src=\"figures/users.png\" />\n",
    "</center>"
   ]
  },
  {
   "cell_type": "markdown",
   "metadata": {
    "slideshow": {
     "slide_type": "slide"
    }
   },
   "source": [
    "## Utilisateurs (2016)\n",
    "\n",
    "<center>\n",
    "<img style=\"height=80%\" src=\"figures/users_map.png\" />\n",
    "</center>"
   ]
  },
  {
   "cell_type": "markdown",
   "metadata": {
    "slideshow": {
     "slide_type": "slide"
    }
   },
   "source": [
    "## Journées de formation\n",
    "\n",
    "<center>\n",
    "<img style=\"height=90%\" src=\"figures/training.png\" />\n",
    "</center>"
   ]
  },
  {
   "cell_type": "markdown",
   "metadata": {
    "slideshow": {
     "slide_type": "slide"
    }
   },
   "source": [
    "## Journées de formation (2016)\n",
    "\n",
    "<center>\n",
    "<img style=\"height=80%\" src=\"figures/training_map.png\" />\n",
    "</center>"
   ]
  },
  {
   "cell_type": "code",
   "execution_count": 1,
   "metadata": {
    "collapsed": false,
    "slideshow": {
     "slide_type": "skip"
    }
   },
   "outputs": [
    {
     "data": {
      "text/html": [
       "<link href='http://fonts.googleapis.com/css?family=Oswald' rel='stylesheet' type='text/css'>\n",
       "<link href='http://fonts.googleapis.com/css?family=Lora:400,400italic' rel='stylesheet' type='text/css'>\n",
       "<link href='http://fonts.googleapis.com/css?family=Open+Sans:300' rel='stylesheet' type='text/css'>\n",
       "\n",
       "<style>\n",
       "\n",
       "div.text_cell_render{font-family: \"Open Sans\", sans-serif;font-weight: normal; line-height:normal;}\n",
       "/* header colours and fonts */\n",
       ".rendered_html h1 { color: #9A3334; font-family: Lora, sans-serif; font-weight: normal; text-align: center; }\n",
       ".rendered_html h2 { color: #9A3334; font-family: Oswald, sans-serif; font-style: italic; font-weight: normal; text-align: center; margin-bottom: 2em; }\n",
       ".rendered_html h3 { color: #9A3334; font-family: Lora, sans-serif; font-weight: normal; font-style: italic;}\n",
       "\n",
       "strong { color: #9A3334;}\n",
       "\n",
       "div.prompt {\n",
       "    display: None;\n",
       "}\n",
       "\n",
       "/* center the images */\n",
       ".ui-wrapper {\n",
       "    margin-left: auto !important;\n",
       "    margin-right: auto !important;\n",
       "}\n",
       "\n",
       "/* center the images */\n",
       ".video {\n",
       "    margin-left: auto !important;\n",
       "    margin-right: auto !important;\n",
       "}\n",
       "\n",
       ".rendered_html img {\n",
       "    margin-top: 0em;\n",
       "}\n",
       "\n",
       "/*.reveal h1 {\n",
       "    text-shadow: 10px 10px 10px rgba(0, 0, 0, 0.5);\n",
       "}*/\n",
       "</style>\n"
      ],
      "text/plain": [
       "<IPython.core.display.HTML object>"
      ]
     },
     "execution_count": 1,
     "metadata": {},
     "output_type": "execute_result"
    }
   ],
   "source": [
    "from IPython.core.display import HTML\n",
    "def css_styling():\n",
    "    styles = open(\"styles/custom.css\", \"r\").read()\n",
    "    return HTML(styles)\n",
    "css_styling()"
   ]
  },
  {
   "cell_type": "code",
   "execution_count": 4,
   "metadata": {
    "collapsed": false,
    "slideshow": {
     "slide_type": "skip"
    }
   },
   "outputs": [
    {
     "data": {
      "text/plain": [
       "{'start_slideshow_at': 'selected', 'theme': 'white', 'transition': 'slide'}"
      ]
     },
     "execution_count": 4,
     "metadata": {},
     "output_type": "execute_result"
    }
   ],
   "source": [
    "from traitlets.config.manager import BaseJSONConfigManager\n",
    "path = \"/home/loic/anaconda3/etc/jupyter/nbconfig\"\n",
    "cm = BaseJSONConfigManager(config_dir=path)\n",
    "cm.update('livereveal', {\n",
    "              'theme': \"white\",\n",
    "              'transition': 'slide',\n",
    "              'start_slideshow_at': 'selected',\n",
    "})"
   ]
  }
 ],
 "metadata": {
  "anaconda-cloud": {},
  "celltoolbar": "Slideshow",
  "kernelspec": {
   "display_name": "Python [default]",
   "language": "python",
   "name": "python3"
  },
  "language_info": {
   "codemirror_mode": {
    "name": "ipython",
    "version": 3
   },
   "file_extension": ".py",
   "mimetype": "text/x-python",
   "name": "python",
   "nbconvert_exporter": "python",
   "pygments_lexer": "ipython3",
   "version": "3.5.2"
  }
 },
 "nbformat": 4,
 "nbformat_minor": 1
}
